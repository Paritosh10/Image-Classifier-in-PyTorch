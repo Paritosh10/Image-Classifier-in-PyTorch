{
  "nbformat": 4,
  "nbformat_minor": 0,
  "metadata": {
    "colab": {
      "name": "QSTP-Image_RecognitionCNN.ipynb",
      "version": "0.3.2",
      "views": {},
      "default_view": {},
      "provenance": [],
      "collapsed_sections": []
    },
    "kernelspec": {
      "name": "python3",
      "display_name": "Python 3"
    }
  },
  "cells": [
    {
      "metadata": {
        "id": "VtCNb9fd7RNO",
        "colab_type": "text"
      },
      "cell_type": "markdown",
      "source": [
        "**Installing Torch:**"
      ]
    },
    {
      "metadata": {
        "id": "xfqTLiRH_nWC",
        "colab_type": "code",
        "colab": {
          "autoexec": {
            "startup": false,
            "wait_interval": 0
          }
        },
        "cellView": "both"
      },
      "cell_type": "code",
      "source": [
        "from os import path\n",
        "from wheel.pep425tags import get_abbr_impl, get_impl_ver, get_abi_tag\n",
        "platform = '{}{}-{}'.format(get_abbr_impl(), get_impl_ver(), get_abi_tag())\n",
        "\n",
        "accelerator = 'cu80' if path.exists('/opt/bin/nvidia-smi') else 'cpu'\n",
        "\n",
        "!pip install -q http://download.pytorch.org/whl/{accelerator}/torch-0.4.0-{platform}-linux_x86_64.whl torchvision"
      ],
      "execution_count": 0,
      "outputs": []
    },
    {
      "metadata": {
        "id": "yO258C407f4c",
        "colab_type": "text"
      },
      "cell_type": "markdown",
      "source": [
        "**Including Required Libraries:**"
      ]
    },
    {
      "metadata": {
        "id": "2TmiGHqZ_kry",
        "colab_type": "code",
        "colab": {
          "autoexec": {
            "startup": false,
            "wait_interval": 0
          }
        }
      },
      "cell_type": "code",
      "source": [
        "import torch\n",
        "import torch.nn as nn\n",
        "import torchvision.transforms as transforms\n",
        "import torchvision.datasets as dsets\n",
        "from torch.autograd import Variable\n",
        "import matplotlib.pyplot as plt\n",
        "import numpy as np"
      ],
      "execution_count": 0,
      "outputs": []
    },
    {
      "metadata": {
        "id": "vJ7lqKbe7sa7",
        "colab_type": "text"
      },
      "cell_type": "markdown",
      "source": [
        "**Download the FashionMNIST dataset:**"
      ]
    },
    {
      "metadata": {
        "id": "fiMwxnBwEXDk",
        "colab_type": "code",
        "colab": {
          "autoexec": {
            "startup": false,
            "wait_interval": 0
          }
        }
      },
      "cell_type": "code",
      "source": [
        "train_dataset = dsets.FashionMNIST(root = './data', train = True, transform = transforms.ToTensor(),download = True)\n",
        "test_dataset = dsets.FashionMNIST(root = './data', train = False, transform = transforms.ToTensor(),download = True)"
      ],
      "execution_count": 0,
      "outputs": []
    },
    {
      "metadata": {
        "id": "PVFMTo9o7zsA",
        "colab_type": "text"
      },
      "cell_type": "markdown",
      "source": [
        "**Making the dataset iterable:**"
      ]
    },
    {
      "metadata": {
        "id": "sHQvmAotFbfM",
        "colab_type": "code",
        "colab": {
          "autoexec": {
            "startup": false,
            "wait_interval": 0
          }
        }
      },
      "cell_type": "code",
      "source": [
        "batch_size = 100\n",
        "n_iters = 6000\n",
        "num_epochs = n_iters/ (len(train_dataset) / batch_size)\n",
        "num_epochs = int(num_epochs)\n",
        "a = [] #A list to store values of accuracy"
      ],
      "execution_count": 0,
      "outputs": []
    },
    {
      "metadata": {
        "id": "7_1jLtUjHd8U",
        "colab_type": "code",
        "colab": {
          "autoexec": {
            "startup": false,
            "wait_interval": 0
          }
        }
      },
      "cell_type": "code",
      "source": [
        "train_loader = torch.utils.data.DataLoader(dataset = train_dataset, batch_size = batch_size,shuffle = True)\n",
        "test_loader = torch.utils.data.DataLoader(dataset = test_dataset, batch_size = batch_size,shuffle = False)"
      ],
      "execution_count": 0,
      "outputs": []
    },
    {
      "metadata": {
        "id": "-dNwstgk75ZX",
        "colab_type": "text"
      },
      "cell_type": "markdown",
      "source": [
        "**Creating model class:**"
      ]
    },
    {
      "metadata": {
        "id": "UVIOu_zNIW5T",
        "colab_type": "code",
        "colab": {
          "autoexec": {
            "startup": false,
            "wait_interval": 0
          }
        }
      },
      "cell_type": "code",
      "source": [
        "class CNNFashionMNIST(nn.Module):\n",
        "    def __init__(self):\n",
        "        super(CNNFashionMNIST, self).__init__()\n",
        "        #Layer 1\n",
        "        self.conv1 = nn.Conv2d(in_channels = 1, out_channels = 16, kernel_size = 5, stride = 1, padding = 2)\n",
        "        self.bn1 = nn.BatchNorm2d(16)\n",
        "        self.relu1 = nn.ReLU()\n",
        "      \n",
        "        self.maxpool1 = nn.MaxPool2d(kernel_size = 2)\n",
        "        #Layer 2\n",
        "        self.conv2 = nn.Conv2d(in_channels = 16, out_channels = 32, kernel_size = 5, stride = 1, padding = 2)\n",
        "        self.bn2 = nn.BatchNorm2d(32)\n",
        "        self.relu2 = nn.ReLU()\n",
        "      \n",
        "        self.maxpool2 = nn.MaxPool2d(kernel_size = 2)\n",
        "        #fully connected Layer\n",
        "        self.fc1 = nn.Linear(32*7*7, 10)\n",
        "      \n",
        "    def forward(self, x):\n",
        "    \n",
        "        out = self.conv1(x)\n",
        "        out = self.bn1(out)\n",
        "        out = self.relu1(out)\n",
        "    \n",
        "        out = self.maxpool1(out)\n",
        "    \n",
        "        out = self.conv2(out)\n",
        "        out = self.bn2(out)\n",
        "        out = self.relu2(out)\n",
        "    \n",
        "        out = self.maxpool2(out)\n",
        "    \n",
        "        out = out.view(out.size(0), -1)\n",
        "    \n",
        "        out = self.fc1(out)\n",
        "    \n",
        "        return out\n",
        "    "
      ],
      "execution_count": 0,
      "outputs": []
    },
    {
      "metadata": {
        "id": "E376MXF7I2jf",
        "colab_type": "text"
      },
      "cell_type": "markdown",
      "source": [
        "**Instantiating model class:**"
      ]
    },
    {
      "metadata": {
        "id": "yhzSdjtgWxBu",
        "colab_type": "code",
        "colab": {
          "autoexec": {
            "startup": false,
            "wait_interval": 0
          }
        }
      },
      "cell_type": "code",
      "source": [
        "model = CNNFashionMNIST()"
      ],
      "execution_count": 0,
      "outputs": []
    },
    {
      "metadata": {
        "id": "LYNk_HLaJABM",
        "colab_type": "text"
      },
      "cell_type": "markdown",
      "source": [
        "**Loss Class:**"
      ]
    },
    {
      "metadata": {
        "id": "XroOsZI7W55b",
        "colab_type": "code",
        "colab": {
          "autoexec": {
            "startup": false,
            "wait_interval": 0
          }
        }
      },
      "cell_type": "code",
      "source": [
        "criterion = nn.CrossEntropyLoss()"
      ],
      "execution_count": 0,
      "outputs": []
    },
    {
      "metadata": {
        "id": "Y3Ra9tpjJDKc",
        "colab_type": "text"
      },
      "cell_type": "markdown",
      "source": [
        "**Optimizer Class:**"
      ]
    },
    {
      "metadata": {
        "id": "4_aSfPoTXBFq",
        "colab_type": "code",
        "colab": {
          "autoexec": {
            "startup": false,
            "wait_interval": 0
          }
        }
      },
      "cell_type": "code",
      "source": [
        "learning_rate = 0.01\n",
        "optimizer = torch.optim.SGD(model.parameters(), lr = learning_rate)"
      ],
      "execution_count": 0,
      "outputs": []
    },
    {
      "metadata": {
        "id": "hlhglj9qJGbk",
        "colab_type": "text"
      },
      "cell_type": "markdown",
      "source": [
        "**Training:**"
      ]
    },
    {
      "metadata": {
        "id": "C_ZUHnT7XFbU",
        "colab_type": "code",
        "colab": {
          "autoexec": {
            "startup": false,
            "wait_interval": 0
          },
          "base_uri": "https://localhost:8080/",
          "height": 274
        },
        "outputId": "c045a4cf-2f4b-4d6b-8f5c-64f1602acee5",
        "executionInfo": {
          "status": "ok",
          "timestamp": 1529948170027,
          "user_tz": -330,
          "elapsed": 891745,
          "user": {
            "displayName": "Paritosh Usmanpurkar",
            "photoUrl": "https://lh3.googleusercontent.com/a/default-user=s128",
            "userId": "109291921971390550585"
          }
        }
      },
      "cell_type": "code",
      "source": [
        "iter = 0\n",
        "for epoch in range(num_epochs):\n",
        "    for i, (images, labels) in enumerate(train_loader):\n",
        "        \n",
        "        images = Variable(images)\n",
        "        \n",
        "        labels = Variable(labels)\n",
        "             \n",
        "        #Making Gradients zero\n",
        "        optimizer.zero_grad()\n",
        "        \n",
        "        \n",
        "        outputs = model(images)\n",
        "        \n",
        "        \n",
        "        loss = criterion(outputs, labels)\n",
        "        \n",
        "        \n",
        "        loss.backward()\n",
        "        \n",
        "        \n",
        "        optimizer.step()\n",
        "        \n",
        "        iter += 1\n",
        "        \n",
        "        if iter % 500 == 0:\n",
        "                     \n",
        "            correct = 0\n",
        "            total = 0\n",
        "            \n",
        "            for images, labels in test_loader:\n",
        "                images = Variable(images)\n",
        "                \n",
        "                \n",
        "                outputs = model(images)\n",
        "                \n",
        "                \n",
        "                _, predicted = torch.max(outputs.data, 1)\n",
        "                \n",
        "                \n",
        "                total += labels.size(0)\n",
        "                \n",
        "                correct += (predicted == labels).sum()\n",
        "            \n",
        "            accuracy = 100 * correct / total\n",
        "            a.append(accuracy)\n",
        "            \n",
        "            print('Iteration: {}. Loss: {}. Accuracy: {}'.format(iter, loss.data[0], accuracy))\n",
        "            "
      ],
      "execution_count": 0,
      "outputs": [
        {
          "output_type": "stream",
          "text": [
            "/usr/local/lib/python3.6/dist-packages/ipykernel_launcher.py:48: UserWarning: invalid index of a 0-dim tensor. This will be an error in PyTorch 0.5. Use tensor.item() to convert a 0-dim tensor to a Python number\n"
          ],
          "name": "stderr"
        },
        {
          "output_type": "stream",
          "text": [
            "Iteration: 500. Loss: 0.3808995485305786. Accuracy: 84\n",
            "Iteration: 1000. Loss: 0.40281185507774353. Accuracy: 85\n",
            "Iteration: 1500. Loss: 0.3303341269493103. Accuracy: 86\n",
            "Iteration: 2000. Loss: 0.21109075844287872. Accuracy: 87\n",
            "Iteration: 2500. Loss: 0.2933875024318695. Accuracy: 87\n",
            "Iteration: 3000. Loss: 0.25973233580589294. Accuracy: 88\n",
            "Iteration: 3500. Loss: 0.20535720884799957. Accuracy: 87\n",
            "Iteration: 4000. Loss: 0.2958343029022217. Accuracy: 89\n",
            "Iteration: 4500. Loss: 0.3036942481994629. Accuracy: 88\n",
            "Iteration: 5000. Loss: 0.24423225224018097. Accuracy: 89\n",
            "Iteration: 5500. Loss: 0.12031407654285431. Accuracy: 89\n",
            "Iteration: 6000. Loss: 0.19462203979492188. Accuracy: 89\n"
          ],
          "name": "stdout"
        }
      ]
    },
    {
      "metadata": {
        "id": "9FqDY4A3BqYu",
        "colab_type": "code",
        "colab": {
          "autoexec": {
            "startup": false,
            "wait_interval": 0
          },
          "base_uri": "https://localhost:8080/",
          "height": 379
        },
        "outputId": "fc278949-47ab-4e99-d973-8fb374994e90",
        "executionInfo": {
          "status": "ok",
          "timestamp": 1529948764545,
          "user_tz": -330,
          "elapsed": 1586,
          "user": {
            "displayName": "Paritosh Usmanpurkar",
            "photoUrl": "https://lh3.googleusercontent.com/a/default-user=s128",
            "userId": "109291921971390550585"
          }
        }
      },
      "cell_type": "code",
      "source": [
        " i =[]\n",
        "for t in range(1,6001):\n",
        "    if t % 500 ==0:\n",
        "        i.append(t)\n",
        "plt.plot(i,np.array(a))\n",
        "plt.xlabel('Number of Iterations')\n",
        "plt.ylabel('Accuracy(%)')"
      ],
      "execution_count": 0,
      "outputs": [
        {
          "output_type": "execute_result",
          "data": {
            "text/plain": [
              "Text(0,0.5,'Accuracy(%)')"
            ]
          },
          "metadata": {
            "tags": []
          },
          "execution_count": 49
        },
        {
          "output_type": "display_data",
          "data": {
            "image/png": "[encoded data removed]",
            "text/plain": [
              "<matplotlib.figure.Figure at 0x7fbcab8b7f98>"
            ]
          },
          "metadata": {
            "tags": []
          }
        }
      ]
    }
  ]
}